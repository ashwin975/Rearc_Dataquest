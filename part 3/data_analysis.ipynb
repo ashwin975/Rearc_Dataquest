{
 "cells": [
  {
   "cell_type": "code",
   "execution_count": 151,
   "id": "975062fe",
   "metadata": {},
   "outputs": [],
   "source": [
    "import pandas as pd\n",
    "import os\n",
    "import boto3\n",
    "import json\n",
    "from dotenv import load_dotenv  \n",
    "from config_part3 import BLS_BUCKET_NAME, API_BUCKET_NAME, API_PREFIX, BLS_PREFIX"
   ]
  },
  {
   "cell_type": "code",
   "execution_count": 152,
   "id": "a7080455",
   "metadata": {},
   "outputs": [
    {
     "data": {
      "text/plain": [
       "True"
      ]
     },
     "execution_count": 152,
     "metadata": {},
     "output_type": "execute_result"
    }
   ],
   "source": [
    "# Load environment variables from .env file\n",
    "load_dotenv()"
   ]
  },
  {
   "cell_type": "code",
   "execution_count": 153,
   "id": "bdf34feb",
   "metadata": {},
   "outputs": [],
   "source": [
    "AWS_ACCESS_KEY_ID = os.getenv(\"BLS_ACCESS_KEY_ID\")\n",
    "AWS_SECRET_ACCESS_KEY = os.getenv(\"BLS_SECRET_ACCESS_KEY\")\n",
    "AWS_DEFAULT_REGION = os.getenv(\"BLS_DEFAULT_REGION\")"
   ]
  },
  {
   "cell_type": "code",
   "execution_count": 148,
   "id": "a3542e1b",
   "metadata": {},
   "outputs": [],
   "source": [
    "# Initialize S3 client with credentials\n",
    "s3 = boto3.client(\n",
    "    's3',\n",
    "    aws_access_key_id=AWS_ACCESS_KEY_ID,\n",
    "    aws_secret_access_key=AWS_SECRET_ACCESS_KEY\n",
    "    #region_name=BLS_DEFAULT_REGION\n",
    ")"
   ]
  },
  {
   "cell_type": "code",
   "execution_count": 149,
   "id": "ebf8cc88",
   "metadata": {},
   "outputs": [],
   "source": [
    "# Load part 1 data into df\n",
    "part1_data = s3.get_object(Bucket=BLS_BUCKET_NAME, Key=f\"{BLS_PREFIX}\")\n",
    "part1_df = pd.read_csv(part1_data['Body'], sep='\\t')"
   ]
  },
  {
   "cell_type": "code",
   "execution_count": 150,
   "id": "8fd46beb",
   "metadata": {},
   "outputs": [],
   "source": [
    "part1_df.to_csv(\"output_part1.csv\", index=False)"
   ]
  },
  {
   "cell_type": "code",
   "execution_count": 154,
   "id": "1099e886",
   "metadata": {},
   "outputs": [
    {
     "data": {
      "text/html": [
       "<div>\n",
       "<style scoped>\n",
       "    .dataframe tbody tr th:only-of-type {\n",
       "        vertical-align: middle;\n",
       "    }\n",
       "\n",
       "    .dataframe tbody tr th {\n",
       "        vertical-align: top;\n",
       "    }\n",
       "\n",
       "    .dataframe thead th {\n",
       "        text-align: right;\n",
       "    }\n",
       "</style>\n",
       "<table border=\"1\" class=\"dataframe\">\n",
       "  <thead>\n",
       "    <tr style=\"text-align: right;\">\n",
       "      <th></th>\n",
       "      <th>series_id</th>\n",
       "      <th>year</th>\n",
       "      <th>period</th>\n",
       "      <th>value</th>\n",
       "      <th>footnote_codes</th>\n",
       "    </tr>\n",
       "  </thead>\n",
       "  <tbody>\n",
       "    <tr>\n",
       "      <th>0</th>\n",
       "      <td>PRS30006011</td>\n",
       "      <td>1995</td>\n",
       "      <td>Q01</td>\n",
       "      <td>2.6</td>\n",
       "      <td>NaN</td>\n",
       "    </tr>\n",
       "    <tr>\n",
       "      <th>1</th>\n",
       "      <td>PRS30006011</td>\n",
       "      <td>1995</td>\n",
       "      <td>Q02</td>\n",
       "      <td>2.1</td>\n",
       "      <td>NaN</td>\n",
       "    </tr>\n",
       "    <tr>\n",
       "      <th>2</th>\n",
       "      <td>PRS30006011</td>\n",
       "      <td>1995</td>\n",
       "      <td>Q03</td>\n",
       "      <td>0.9</td>\n",
       "      <td>NaN</td>\n",
       "    </tr>\n",
       "    <tr>\n",
       "      <th>3</th>\n",
       "      <td>PRS30006011</td>\n",
       "      <td>1995</td>\n",
       "      <td>Q04</td>\n",
       "      <td>0.1</td>\n",
       "      <td>NaN</td>\n",
       "    </tr>\n",
       "    <tr>\n",
       "      <th>4</th>\n",
       "      <td>PRS30006011</td>\n",
       "      <td>1995</td>\n",
       "      <td>Q05</td>\n",
       "      <td>1.4</td>\n",
       "      <td>NaN</td>\n",
       "    </tr>\n",
       "  </tbody>\n",
       "</table>\n",
       "</div>"
      ],
      "text/plain": [
       "   series_id          year period         value footnote_codes\n",
       "0  PRS30006011        1995    Q01           2.6            NaN\n",
       "1  PRS30006011        1995    Q02           2.1            NaN\n",
       "2  PRS30006011        1995    Q03           0.9            NaN\n",
       "3  PRS30006011        1995    Q04           0.1            NaN\n",
       "4  PRS30006011        1995    Q05           1.4            NaN"
      ]
     },
     "metadata": {},
     "output_type": "display_data"
    }
   ],
   "source": [
    "display(part1_df.head())"
   ]
  },
  {
   "cell_type": "code",
   "execution_count": 155,
   "id": "af72f8a3",
   "metadata": {},
   "outputs": [],
   "source": [
    "# Load part 2 data into df\n",
    "api_population = s3.get_object(Bucket=API_BUCKET_NAME, Key=API_PREFIX)\n",
    "population_json = json.load(api_population[\"Body\"])\n",
    "part2_df = pd.json_normalize(population_json['data'])"
   ]
  },
  {
   "cell_type": "code",
   "execution_count": 157,
   "id": "b73313aa",
   "metadata": {},
   "outputs": [
    {
     "data": {
      "text/html": [
       "<div>\n",
       "<style scoped>\n",
       "    .dataframe tbody tr th:only-of-type {\n",
       "        vertical-align: middle;\n",
       "    }\n",
       "\n",
       "    .dataframe tbody tr th {\n",
       "        vertical-align: top;\n",
       "    }\n",
       "\n",
       "    .dataframe thead th {\n",
       "        text-align: right;\n",
       "    }\n",
       "</style>\n",
       "<table border=\"1\" class=\"dataframe\">\n",
       "  <thead>\n",
       "    <tr style=\"text-align: right;\">\n",
       "      <th></th>\n",
       "      <th>Nation ID</th>\n",
       "      <th>Nation</th>\n",
       "      <th>Year</th>\n",
       "      <th>Population</th>\n",
       "    </tr>\n",
       "  </thead>\n",
       "  <tbody>\n",
       "    <tr>\n",
       "      <th>0</th>\n",
       "      <td>01000US</td>\n",
       "      <td>United States</td>\n",
       "      <td>2013</td>\n",
       "      <td>316128839.0</td>\n",
       "    </tr>\n",
       "    <tr>\n",
       "      <th>1</th>\n",
       "      <td>01000US</td>\n",
       "      <td>United States</td>\n",
       "      <td>2014</td>\n",
       "      <td>318857056.0</td>\n",
       "    </tr>\n",
       "    <tr>\n",
       "      <th>2</th>\n",
       "      <td>01000US</td>\n",
       "      <td>United States</td>\n",
       "      <td>2015</td>\n",
       "      <td>321418821.0</td>\n",
       "    </tr>\n",
       "    <tr>\n",
       "      <th>3</th>\n",
       "      <td>01000US</td>\n",
       "      <td>United States</td>\n",
       "      <td>2016</td>\n",
       "      <td>323127515.0</td>\n",
       "    </tr>\n",
       "    <tr>\n",
       "      <th>4</th>\n",
       "      <td>01000US</td>\n",
       "      <td>United States</td>\n",
       "      <td>2017</td>\n",
       "      <td>325719178.0</td>\n",
       "    </tr>\n",
       "  </tbody>\n",
       "</table>\n",
       "</div>"
      ],
      "text/plain": [
       "  Nation ID         Nation  Year   Population\n",
       "0   01000US  United States  2013  316128839.0\n",
       "1   01000US  United States  2014  318857056.0\n",
       "2   01000US  United States  2015  321418821.0\n",
       "3   01000US  United States  2016  323127515.0\n",
       "4   01000US  United States  2017  325719178.0"
      ]
     },
     "metadata": {},
     "output_type": "display_data"
    }
   ],
   "source": [
    "display(part2_df.head(5))"
   ]
  },
  {
   "cell_type": "code",
   "execution_count": 135,
   "id": "83d431ec",
   "metadata": {},
   "outputs": [
    {
     "data": {
      "text/plain": [
       "Nation ID      object\n",
       "Nation         object\n",
       "Year            int64\n",
       "Population    float64\n",
       "dtype: object"
      ]
     },
     "execution_count": 135,
     "metadata": {},
     "output_type": "execute_result"
    }
   ],
   "source": [
    "part2_df.dtypes"
   ]
  },
  {
   "cell_type": "code",
   "execution_count": 136,
   "id": "77106058",
   "metadata": {},
   "outputs": [],
   "source": [
    "part2_df['Year'] = part2_df['Year'].astype(int)"
   ]
  },
  {
   "cell_type": "code",
   "execution_count": 137,
   "id": "78e50936",
   "metadata": {},
   "outputs": [],
   "source": [
    "df_pop_2013_2018 = part2_df[(part2_df['Year'] >= 2013) & (part2_df['Year'] <= 2018)]"
   ]
  },
  {
   "cell_type": "code",
   "execution_count": 138,
   "id": "74528f22",
   "metadata": {},
   "outputs": [
    {
     "name": "stdout",
     "output_type": "stream",
     "text": [
      "Mean Population (2013–2018): 322069808.0\n",
      "Standard Deviation: 4158441.04\n"
     ]
    }
   ],
   "source": [
    "mean_pop = round(df_pop_2013_2018['Population'].mean(),2)\n",
    "std_pop = round(df_pop_2013_2018['Population'].std(),2)\n",
    "\n",
    "# round to 2 decimal places\n",
    "print(\"Mean Population (2013–2018):\", mean_pop)\n",
    "print(\"Standard Deviation:\", std_pop)"
   ]
  },
  {
   "cell_type": "code",
   "execution_count": 139,
   "id": "486509f3",
   "metadata": {},
   "outputs": [],
   "source": [
    "part1_df.columns = part1_df.columns.str.strip()"
   ]
  },
  {
   "cell_type": "code",
   "execution_count": 140,
   "id": "a2ed8308",
   "metadata": {},
   "outputs": [
    {
     "data": {
      "text/plain": [
       "series_id          object\n",
       "year                int64\n",
       "period             object\n",
       "value             float64\n",
       "footnote_codes     object\n",
       "dtype: object"
      ]
     },
     "execution_count": 140,
     "metadata": {},
     "output_type": "execute_result"
    }
   ],
   "source": [
    "part1_df.dtypes\n"
   ]
  },
  {
   "cell_type": "code",
   "execution_count": 141,
   "id": "87a3d2a3",
   "metadata": {},
   "outputs": [
    {
     "data": {
      "text/html": [
       "<div>\n",
       "<style scoped>\n",
       "    .dataframe tbody tr th:only-of-type {\n",
       "        vertical-align: middle;\n",
       "    }\n",
       "\n",
       "    .dataframe tbody tr th {\n",
       "        vertical-align: top;\n",
       "    }\n",
       "\n",
       "    .dataframe thead th {\n",
       "        text-align: right;\n",
       "    }\n",
       "</style>\n",
       "<table border=\"1\" class=\"dataframe\">\n",
       "  <thead>\n",
       "    <tr style=\"text-align: right;\">\n",
       "      <th></th>\n",
       "      <th>series_id</th>\n",
       "      <th>year</th>\n",
       "      <th>value</th>\n",
       "    </tr>\n",
       "  </thead>\n",
       "  <tbody>\n",
       "    <tr>\n",
       "      <th>0</th>\n",
       "      <td>PRS30006011</td>\n",
       "      <td>2022</td>\n",
       "      <td>20.500</td>\n",
       "    </tr>\n",
       "    <tr>\n",
       "      <th>1</th>\n",
       "      <td>PRS30006012</td>\n",
       "      <td>2022</td>\n",
       "      <td>17.100</td>\n",
       "    </tr>\n",
       "    <tr>\n",
       "      <th>2</th>\n",
       "      <td>PRS30006013</td>\n",
       "      <td>1998</td>\n",
       "      <td>705.895</td>\n",
       "    </tr>\n",
       "    <tr>\n",
       "      <th>3</th>\n",
       "      <td>PRS30006021</td>\n",
       "      <td>2010</td>\n",
       "      <td>17.700</td>\n",
       "    </tr>\n",
       "    <tr>\n",
       "      <th>4</th>\n",
       "      <td>PRS30006022</td>\n",
       "      <td>2010</td>\n",
       "      <td>12.400</td>\n",
       "    </tr>\n",
       "    <tr>\n",
       "      <th>...</th>\n",
       "      <td>...</td>\n",
       "      <td>...</td>\n",
       "      <td>...</td>\n",
       "    </tr>\n",
       "    <tr>\n",
       "      <th>277</th>\n",
       "      <td>PRS88003192</td>\n",
       "      <td>2002</td>\n",
       "      <td>282.800</td>\n",
       "    </tr>\n",
       "    <tr>\n",
       "      <th>278</th>\n",
       "      <td>PRS88003193</td>\n",
       "      <td>2024</td>\n",
       "      <td>860.838</td>\n",
       "    </tr>\n",
       "    <tr>\n",
       "      <th>279</th>\n",
       "      <td>PRS88003201</td>\n",
       "      <td>2022</td>\n",
       "      <td>37.200</td>\n",
       "    </tr>\n",
       "    <tr>\n",
       "      <th>280</th>\n",
       "      <td>PRS88003202</td>\n",
       "      <td>2022</td>\n",
       "      <td>28.700</td>\n",
       "    </tr>\n",
       "    <tr>\n",
       "      <th>281</th>\n",
       "      <td>PRS88003203</td>\n",
       "      <td>2024</td>\n",
       "      <td>583.441</td>\n",
       "    </tr>\n",
       "  </tbody>\n",
       "</table>\n",
       "<p>282 rows × 3 columns</p>\n",
       "</div>"
      ],
      "text/plain": [
       "             series_id  year    value\n",
       "0    PRS30006011        2022   20.500\n",
       "1    PRS30006012        2022   17.100\n",
       "2    PRS30006013        1998  705.895\n",
       "3    PRS30006021        2010   17.700\n",
       "4    PRS30006022        2010   12.400\n",
       "..                 ...   ...      ...\n",
       "277  PRS88003192        2002  282.800\n",
       "278  PRS88003193        2024  860.838\n",
       "279  PRS88003201        2022   37.200\n",
       "280  PRS88003202        2022   28.700\n",
       "281  PRS88003203        2024  583.441\n",
       "\n",
       "[282 rows x 3 columns]"
      ]
     },
     "metadata": {},
     "output_type": "display_data"
    }
   ],
   "source": [
    "grouped = part1_df.groupby(['series_id', 'year'])['value'].sum().reset_index()\n",
    "best_years = grouped.loc[grouped.groupby('series_id')['value'].idxmax()].reset_index(drop=True)\n",
    "\n",
    "\n",
    "display(best_years)"
   ]
  },
  {
   "cell_type": "code",
   "execution_count": 142,
   "id": "8b15caed",
   "metadata": {},
   "outputs": [
    {
     "data": {
      "text/html": [
       "<div>\n",
       "<style scoped>\n",
       "    .dataframe tbody tr th:only-of-type {\n",
       "        vertical-align: middle;\n",
       "    }\n",
       "\n",
       "    .dataframe tbody tr th {\n",
       "        vertical-align: top;\n",
       "    }\n",
       "\n",
       "    .dataframe thead th {\n",
       "        text-align: right;\n",
       "    }\n",
       "</style>\n",
       "<table border=\"1\" class=\"dataframe\">\n",
       "  <thead>\n",
       "    <tr style=\"text-align: right;\">\n",
       "      <th></th>\n",
       "      <th>series_id</th>\n",
       "      <th>year</th>\n",
       "      <th>period</th>\n",
       "      <th>value</th>\n",
       "      <th>Population</th>\n",
       "    </tr>\n",
       "  </thead>\n",
       "  <tbody>\n",
       "    <tr>\n",
       "      <th>0</th>\n",
       "      <td>PRS30006032</td>\n",
       "      <td>2013</td>\n",
       "      <td>Q01</td>\n",
       "      <td>0.5</td>\n",
       "      <td>316128839.0</td>\n",
       "    </tr>\n",
       "    <tr>\n",
       "      <th>1</th>\n",
       "      <td>PRS30006032</td>\n",
       "      <td>2014</td>\n",
       "      <td>Q01</td>\n",
       "      <td>-0.1</td>\n",
       "      <td>318857056.0</td>\n",
       "    </tr>\n",
       "    <tr>\n",
       "      <th>2</th>\n",
       "      <td>PRS30006032</td>\n",
       "      <td>2015</td>\n",
       "      <td>Q01</td>\n",
       "      <td>-1.7</td>\n",
       "      <td>321418821.0</td>\n",
       "    </tr>\n",
       "    <tr>\n",
       "      <th>3</th>\n",
       "      <td>PRS30006032</td>\n",
       "      <td>2016</td>\n",
       "      <td>Q01</td>\n",
       "      <td>-1.4</td>\n",
       "      <td>323127515.0</td>\n",
       "    </tr>\n",
       "    <tr>\n",
       "      <th>4</th>\n",
       "      <td>PRS30006032</td>\n",
       "      <td>2017</td>\n",
       "      <td>Q01</td>\n",
       "      <td>0.9</td>\n",
       "      <td>325719178.0</td>\n",
       "    </tr>\n",
       "    <tr>\n",
       "      <th>5</th>\n",
       "      <td>PRS30006032</td>\n",
       "      <td>2018</td>\n",
       "      <td>Q01</td>\n",
       "      <td>0.5</td>\n",
       "      <td>327167439.0</td>\n",
       "    </tr>\n",
       "    <tr>\n",
       "      <th>6</th>\n",
       "      <td>PRS30006032</td>\n",
       "      <td>2019</td>\n",
       "      <td>Q01</td>\n",
       "      <td>-1.6</td>\n",
       "      <td>328239523.0</td>\n",
       "    </tr>\n",
       "    <tr>\n",
       "      <th>7</th>\n",
       "      <td>PRS30006032</td>\n",
       "      <td>2021</td>\n",
       "      <td>Q01</td>\n",
       "      <td>0.7</td>\n",
       "      <td>331893745.0</td>\n",
       "    </tr>\n",
       "    <tr>\n",
       "      <th>8</th>\n",
       "      <td>PRS30006032</td>\n",
       "      <td>2022</td>\n",
       "      <td>Q01</td>\n",
       "      <td>5.3</td>\n",
       "      <td>333287562.0</td>\n",
       "    </tr>\n",
       "    <tr>\n",
       "      <th>9</th>\n",
       "      <td>PRS30006032</td>\n",
       "      <td>2023</td>\n",
       "      <td>Q01</td>\n",
       "      <td>0.3</td>\n",
       "      <td>334914896.0</td>\n",
       "    </tr>\n",
       "  </tbody>\n",
       "</table>\n",
       "</div>"
      ],
      "text/plain": [
       "     series_id  year period  value   Population\n",
       "0  PRS30006032  2013    Q01    0.5  316128839.0\n",
       "1  PRS30006032  2014    Q01   -0.1  318857056.0\n",
       "2  PRS30006032  2015    Q01   -1.7  321418821.0\n",
       "3  PRS30006032  2016    Q01   -1.4  323127515.0\n",
       "4  PRS30006032  2017    Q01    0.9  325719178.0\n",
       "5  PRS30006032  2018    Q01    0.5  327167439.0\n",
       "6  PRS30006032  2019    Q01   -1.6  328239523.0\n",
       "7  PRS30006032  2021    Q01    0.7  331893745.0\n",
       "8  PRS30006032  2022    Q01    5.3  333287562.0\n",
       "9  PRS30006032  2023    Q01    0.3  334914896.0"
      ]
     },
     "metadata": {},
     "output_type": "display_data"
    }
   ],
   "source": [
    "# Filter for series_id and period\n",
    "part1_df['series_id'] = part1_df['series_id'].str.strip()\n",
    "part1_df['period'] = part1_df['period'].str.strip()\n",
    "filtered = part1_df[(part1_df['series_id'] == 'PRS30006032') & (part1_df['period'] == 'Q01')]\n",
    "\n",
    "# Prepare population data\n",
    "pop_lookup = part2_df[['Year', 'Population']].drop_duplicates()\n",
    "pop_lookup.columns = ['year', 'Population']\n",
    "\n",
    "# Merge\n",
    "final = pd.merge(filtered, pop_lookup, on='year', how='right')\n",
    "final_result = final[['series_id', 'year', 'period', 'value', 'Population']]\n",
    "display(final_result)"
   ]
  },
  {
   "cell_type": "code",
   "execution_count": null,
   "id": "ee31ba20",
   "metadata": {},
   "outputs": [],
   "source": []
  },
  {
   "cell_type": "code",
   "execution_count": null,
   "id": "57c18ead",
   "metadata": {},
   "outputs": [],
   "source": []
  },
  {
   "cell_type": "code",
   "execution_count": null,
   "id": "7b7c6f49",
   "metadata": {},
   "outputs": [],
   "source": []
  }
 ],
 "metadata": {
  "kernelspec": {
   "display_name": "Python 3",
   "language": "python",
   "name": "python3"
  },
  "language_info": {
   "codemirror_mode": {
    "name": "ipython",
    "version": 3
   },
   "file_extension": ".py",
   "mimetype": "text/x-python",
   "name": "python",
   "nbconvert_exporter": "python",
   "pygments_lexer": "ipython3",
   "version": "3.9.6"
  }
 },
 "nbformat": 4,
 "nbformat_minor": 5
}
